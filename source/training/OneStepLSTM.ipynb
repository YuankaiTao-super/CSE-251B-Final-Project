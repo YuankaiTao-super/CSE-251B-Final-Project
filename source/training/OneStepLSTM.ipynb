{
 "cells": [
  {
   "cell_type": "code",
   "execution_count": 1,
   "id": "3cb8d9f0",
   "metadata": {
    "_cell_guid": "b1076dfc-b9ad-4769-8c92-a6c4dae69d19",
    "_uuid": "8f2839f25d086af736a60e9eeb907d3b93b6e0e5",
    "execution": {
     "iopub.execute_input": "2025-06-09T00:22:22.765053Z",
     "iopub.status.busy": "2025-06-09T00:22:22.764375Z",
     "iopub.status.idle": "2025-06-09T00:22:29.171264Z",
     "shell.execute_reply": "2025-06-09T00:22:29.170390Z"
    },
    "papermill": {
     "duration": 6.413192,
     "end_time": "2025-06-09T00:22:29.172541",
     "exception": false,
     "start_time": "2025-06-09T00:22:22.759349",
     "status": "completed"
    },
    "tags": []
   },
   "outputs": [
    {
     "name": "stdout",
     "output_type": "stream",
     "text": [
      "/kaggle/input/cse-251-b-2025/train.npz\n",
      "/kaggle/input/cse-251-b-2025/test_input.npz\n"
     ]
    }
   ],
   "source": [
    "# This Python 3 environment comes with many helpful analytics libraries installed\n",
    "# It is defined by the kaggle/python Docker image: https://github.com/kaggle/docker-python\n",
    "# For example, here's several helpful packages to load\n",
    "\n",
    "import numpy as np # linear algebra\n",
    "import pandas as pd # data processing, CSV file I/O (e.g. pd.read_csv)\n",
    "from torch.utils.data import Dataset, DataLoader\n",
    "import torch\n",
    "import random\n",
    "import math\n",
    "import matplotlib.pyplot as plt\n",
    "# Input data files are available in the read-only \"../input/\" directory\n",
    "# For example, running this (by clicking run or pressing Shift+Enter) will list all files under the input directory\n",
    "\n",
    "import os\n",
    "for dirname, _, filenames in os.walk('/kaggle/input'):\n",
    "    for filename in filenames:\n",
    "        print(os.path.join(dirname, filename))\n",
    "\n",
    "# You can write up to 20GB to the current directory (/kaggle/working/) that gets preserved as output when you create a version using \"Save & Run All\" \n",
    "# You can also write temporary files to /kaggle/temp/, but they won't be saved outside of the current session"
   ]
  },
  {
   "cell_type": "code",
   "execution_count": 2,
   "id": "9bc0c0c3",
   "metadata": {
    "execution": {
     "iopub.execute_input": "2025-06-09T00:22:29.180789Z",
     "iopub.status.busy": "2025-06-09T00:22:29.180447Z",
     "iopub.status.idle": "2025-06-09T00:22:29.190492Z",
     "shell.execute_reply": "2025-06-09T00:22:29.189736Z"
    },
    "papermill": {
     "duration": 0.015164,
     "end_time": "2025-06-09T00:22:29.191657",
     "exception": false,
     "start_time": "2025-06-09T00:22:29.176493",
     "status": "completed"
    },
    "tags": []
   },
   "outputs": [],
   "source": [
    "def set_seed(seed):\n",
    "    random.seed(seed)\n",
    "    np.random.seed(seed)\n",
    "    torch.manual_seed(seed)\n",
    "    torch.cuda.manual_seed(seed)  # for single-GPU\n",
    "    torch.cuda.manual_seed_all(seed)  # for multi-GPU\n",
    "\n",
    "    # Ensure deterministic behavior\n",
    "    torch.backends.cudnn.deterministic = True\n",
    "    torch.backends.cudnn.benchmark = False\n",
    "\n",
    "set_seed(42)"
   ]
  },
  {
   "cell_type": "code",
   "execution_count": 3,
   "id": "531f6935",
   "metadata": {
    "execution": {
     "iopub.execute_input": "2025-06-09T00:22:29.199102Z",
     "iopub.status.busy": "2025-06-09T00:22:29.198699Z",
     "iopub.status.idle": "2025-06-09T00:22:45.345023Z",
     "shell.execute_reply": "2025-06-09T00:22:45.344339Z"
    },
    "papermill": {
     "duration": 16.151311,
     "end_time": "2025-06-09T00:22:45.346358",
     "exception": false,
     "start_time": "2025-06-09T00:22:29.195047",
     "status": "completed"
    },
    "tags": []
   },
   "outputs": [
    {
     "name": "stdout",
     "output_type": "stream",
     "text": [
      "train_data's shape (10000, 50, 110, 6)\n",
      "test_data's shape (2100, 50, 50, 6)\n"
     ]
    }
   ],
   "source": [
    "train_file = np.load('/kaggle/input/cse-251-b-2025/train.npz')\n",
    "# train_file = np.load('/kaggle/input/cse-251-b-2025/train.npz')\n",
    "\n",
    "train_data = train_file['data']\n",
    "print(\"train_data's shape\", train_data.shape)\n",
    "test_file = np.load('/kaggle/input/cse-251-b-2025/test_input.npz')\n",
    "# test_file = np.load('/kaggle/input/cse-251-b-2025/test_input.npz')\n",
    "\n",
    "test_data = test_file['data']\n",
    "print(\"test_data's shape\", test_data.shape)"
   ]
  },
  {
   "cell_type": "markdown",
   "id": "49bb58f4",
   "metadata": {
    "papermill": {
     "duration": 0.003251,
     "end_time": "2025-06-09T00:22:45.353187",
     "exception": false,
     "start_time": "2025-06-09T00:22:45.349936",
     "status": "completed"
    },
    "tags": []
   },
   "source": [
    "# TrajectoryDataset Class"
   ]
  },
  {
   "cell_type": "code",
   "execution_count": 4,
   "id": "99e5e5a0",
   "metadata": {
    "execution": {
     "iopub.execute_input": "2025-06-09T00:22:45.360843Z",
     "iopub.status.busy": "2025-06-09T00:22:45.360600Z",
     "iopub.status.idle": "2025-06-09T00:22:46.521059Z",
     "shell.execute_reply": "2025-06-09T00:22:46.520198Z"
    },
    "papermill": {
     "duration": 1.165721,
     "end_time": "2025-06-09T00:22:46.522208",
     "exception": false,
     "start_time": "2025-06-09T00:22:45.356487",
     "status": "completed"
    },
    "tags": []
   },
   "outputs": [
    {
     "name": "stdout",
     "output_type": "stream",
     "text": [
      "torch.Size([1, 245])\n",
      "torch.Size([2])\n",
      "torch.Size([2, 2])\n",
      "torch.Size([60, 2])\n",
      "torch.Size([60, 2])\n",
      "torch.Size([60, 2])\n",
      "torch.Size([60, 1])\n"
     ]
    }
   ],
   "source": [
    "class TrajectoryDataset(Dataset):\n",
    "    def __init__(self, data_tensor, isTest) :\n",
    "        \"\"\"\n",
    "        Args:\n",
    "            data_tensor: Tensor of shape (num_scenes, num_agents, timesteps, features)\n",
    "                         Expected to be (10000, 50, 110, 6)\n",
    "        \"\"\"\n",
    "        self.data = torch.tensor(data_tensor)\n",
    "        self.num_scenes = data_tensor.shape[0]\n",
    "        self.num_agents = data_tensor.shape[1]\n",
    "        self.timesteps = data_tensor.shape[2]\n",
    "        self.isTest = isTest\n",
    "        self.train = False\n",
    "        # Validate input shape\n",
    "        if len(data_tensor.shape) != 4 or data_tensor.shape[3] != 6:\n",
    "            raise ValueError(\"Input tensor must have shape (scenes, agents, timesteps, 6 features)\")\n",
    "    \n",
    "    def __len__(self):\n",
    "        return self.num_scenes\n",
    "    \n",
    "    def __getitem__(self, idx):\n",
    "        scene_tensor = self.data[idx].clone()\n",
    "        \n",
    "        yaw = scene_tensor[0, 0, 4]\n",
    "        rot_mat = torch.tensor([\n",
    "            [torch.cos(-yaw), -torch.sin(-yaw)],\n",
    "            [torch.sin(-yaw),  torch.cos(-yaw)]\n",
    "        ])\n",
    "        \n",
    "        # add slight noise to tolerate noisy\n",
    "        # max_theta_deg = 15\n",
    "        # if np.random.rand() < 0.5:\n",
    "        #     theta = np.radians(np.random.uniform(-max_theta_deg, max_theta_deg))\n",
    "        #     noise_rot = torch.tensor([\n",
    "        #         [math.cos(theta), -math.sin(theta)],\n",
    "        #         [math.sin(theta),  math.cos(theta)]\n",
    "        #     ], dtype=rot_mat.dtype, device=rot_mat.device)\n",
    "        #     rot_mat = noise_rot @ rot_mat \n",
    "            \n",
    "        ego_pos = scene_tensor[0, :, :2]\n",
    "        roted_ego_pos = scene_tensor[0, :, :2] @ rot_mat.T # (110,2)\n",
    "        roted_ego_vel = scene_tensor[0, :, 2:4] @ rot_mat.T # (110,2)\n",
    "        ego_yaw = scene_tensor[0, :, 4] # (110, )\n",
    "        \n",
    "        # rotated ego positions difference features (falttened at last)\n",
    "        roted_ego_pos_diff = roted_ego_pos[1:] - roted_ego_pos[:-1] # (109,2)\n",
    "        if not self.isTest:\n",
    "            roted_ego_pos_diff_init  = roted_ego_pos_diff[:-60]  # (49,2)\n",
    "            roted_ego_pos_diff_target = roted_ego_pos_diff[-60:] #  (60,2)\n",
    "        else:\n",
    "            roted_ego_pos_diff_init = roted_ego_pos_diff\n",
    "        roted_ego_pos_diff_window = roted_ego_pos_diff_init.reshape(1,-1) # (1, 98), row-major order flatten\n",
    "        ### Train data-only data transformations (regularization)\n",
    "        # if not self.isTest and self.train:\n",
    "        #     roted_ego_pos_diff_window += torch.normal(mean=0, std=0.05, size=roted_ego_pos_diff_window.shape)\n",
    "\n",
    "        # rotated ego velocity difference features (falttened at last)\n",
    "        roted_ego_vel_diff = roted_ego_vel[1:] - roted_ego_vel[:-1] # (109,2)\n",
    "        if not self.isTest:\n",
    "            roted_ego_vel_diff_init = roted_ego_vel_diff[:-60] # (49,2)\n",
    "            roted_ego_vel_diff_target = roted_ego_vel_diff[-60:] # (60,2)\n",
    "        else:\n",
    "            roted_ego_vel_diff_init = roted_ego_vel_diff\n",
    "        roted_ego_vel_diff_window = roted_ego_vel_diff_init.reshape(1,-1) # (1, 98), row-major order flatten\n",
    "\n",
    "        # ego yaw angle difference features \n",
    "        ego_yaw_diff = ego_yaw[1:] - ego_yaw[:-1] # (109,)\n",
    "        if not self.isTest:\n",
    "            ego_yaw_diff_init = ego_yaw_diff[:-60]  # (49,)\n",
    "            ego_yaw_diff_target = ego_yaw_diff[-60:] # (60,)\n",
    "        else:\n",
    "            ego_yaw_diff_init = ego_yaw_diff\n",
    "        ego_yaw_diff_window = ego_yaw_diff_init.reshape(1,-1) # (1, 49), row-major order flatten\n",
    "\n",
    "        ### final feature vector\n",
    "        feature = torch.cat([roted_ego_pos_diff_window, roted_ego_vel_diff_window, ego_yaw_diff_window], dim=1) # (1,245)\n",
    "        \n",
    "        # reverse transformation of prediction and targets\n",
    "        recovery_angle_mat = rot_mat\n",
    "        if not self.isTest:\n",
    "            recovery_pos_roted = roted_ego_pos[-61] # (2,)\n",
    "            label_pos = ego_pos[-60:] # (60,2)\n",
    "            return (\n",
    "                feature.float(), # (1,245)\n",
    "                recovery_pos_roted.float(), # (2)\n",
    "                recovery_angle_mat.float(), # (2,2)\n",
    "                label_pos.float(), # (60,2)\n",
    "                roted_ego_pos_diff_target.float(), # (60,2)\n",
    "                roted_ego_vel_diff_target.float(), # (60,2)\n",
    "                ego_yaw_diff_target.unsqueeze(1).float() # (60,1)\n",
    "            )\n",
    "        else: \n",
    "            recovery_pos_roted = roted_ego_pos[-1] # (2,)\n",
    "            return (\n",
    "                feature.float(), # (1,245)\n",
    "                recovery_pos_roted.float(), # (2)\n",
    "                recovery_angle_mat.float(), # (2,2)\n",
    "            )\n",
    "        \n",
    "feature_size = 2*49 + 2*49 + 49\n",
    "output_size = 2 + 2 + 1\n",
    "dataset = TrajectoryDataset(train_data, isTest=False)\n",
    "for tensor in dataset[1]: print(tensor.shape)"
   ]
  },
  {
   "cell_type": "markdown",
   "id": "356bd412",
   "metadata": {
    "papermill": {
     "duration": 0.003084,
     "end_time": "2025-06-09T00:22:46.528895",
     "exception": false,
     "start_time": "2025-06-09T00:22:46.525811",
     "status": "completed"
    },
    "tags": []
   },
   "source": [
    "# Create datasets and dataloaders, set device"
   ]
  },
  {
   "cell_type": "code",
   "execution_count": 5,
   "id": "7889da92",
   "metadata": {
    "execution": {
     "iopub.execute_input": "2025-06-09T00:22:46.536037Z",
     "iopub.status.busy": "2025-06-09T00:22:46.535790Z",
     "iopub.status.idle": "2025-06-09T00:22:46.660515Z",
     "shell.execute_reply": "2025-06-09T00:22:46.659763Z"
    },
    "papermill": {
     "duration": 0.129783,
     "end_time": "2025-06-09T00:22:46.661760",
     "exception": false,
     "start_time": "2025-06-09T00:22:46.531977",
     "status": "completed"
    },
    "tags": []
   },
   "outputs": [
    {
     "name": "stdout",
     "output_type": "stream",
     "text": [
      "71\n",
      "[torch.Size([128, 1, 245]), torch.Size([128, 2]), torch.Size([128, 2, 2]), torch.Size([128, 60, 2]), torch.Size([128, 60, 2]), torch.Size([128, 60, 2]), torch.Size([128, 60, 1])]\n"
     ]
    },
    {
     "data": {
      "text/plain": [
       "device(type='cuda')"
      ]
     },
     "execution_count": 5,
     "metadata": {},
     "output_type": "execute_result"
    }
   ],
   "source": [
    "from torch.utils.data import random_split\n",
    "\n",
    "batch_size = 128\n",
    "train_dataset, val_dataset = random_split(dataset, [int(len(dataset)*0.9), int(len(dataset)*0.1)])\n",
    "train_dataset.train = True\n",
    "train_loader = DataLoader(train_dataset, batch_size=batch_size, shuffle=True)\n",
    "val_loader = DataLoader(val_dataset, batch_size=batch_size, shuffle=True)\n",
    "train_val_loader = DataLoader(dataset, batch_size=batch_size, shuffle=True)\n",
    "print(len(train_loader))\n",
    "\n",
    "for batch in train_loader:\n",
    "    print([x.shape for x in batch])\n",
    "    break  # only the first batch\n",
    "\n",
    "device = torch.device(\"cuda\" if torch.cuda.is_available() else \"cpu\")\n",
    "device"
   ]
  },
  {
   "cell_type": "markdown",
   "id": "b31f984f",
   "metadata": {
    "papermill": {
     "duration": 0.01116,
     "end_time": "2025-06-09T00:22:46.676436",
     "exception": false,
     "start_time": "2025-06-09T00:22:46.665276",
     "status": "completed"
    },
    "tags": []
   },
   "source": [
    "# Model architecture"
   ]
  },
  {
   "cell_type": "code",
   "execution_count": 6,
   "id": "7b963813",
   "metadata": {
    "execution": {
     "iopub.execute_input": "2025-06-09T00:22:46.684269Z",
     "iopub.status.busy": "2025-06-09T00:22:46.683892Z",
     "iopub.status.idle": "2025-06-09T00:22:46.690993Z",
     "shell.execute_reply": "2025-06-09T00:22:46.690276Z"
    },
    "papermill": {
     "duration": 0.012251,
     "end_time": "2025-06-09T00:22:46.692117",
     "exception": false,
     "start_time": "2025-06-09T00:22:46.679866",
     "status": "completed"
    },
    "tags": []
   },
   "outputs": [],
   "source": [
    "import torch.nn as nn\n",
    "\n",
    "class OneStepLSTM(nn.Module):\n",
    "    def __init__(self, input_size, hidden_size, output_size, num_layers, dropout):\n",
    "        \"\"\"\n",
    "        LSTM for one-step-ahead prediction\n",
    "        \n",
    "        Args:\n",
    "            input_size: number of input features (104)\n",
    "            hidden_size: number of LSTM hidden units\n",
    "            output_size: number of output features (2)\n",
    "            num_layers: number of LSTM layers\n",
    "        \"\"\"\n",
    "        super(OneStepLSTM, self).__init__()\n",
    "        self.hidden_size = hidden_size\n",
    "        self.num_layers = num_layers\n",
    "\n",
    "        self.fc_in = nn.Linear(input_size, input_size)\n",
    "        self.ln_in = nn.LayerNorm(input_size)\n",
    "        self.lstm = nn.LSTM(input_size, hidden_size, num_layers, batch_first=True)\n",
    "        self.fc_out= nn.Linear(hidden_size, output_size)\n",
    "        self.init_h = nn.Parameter(torch.zeros(num_layers, hidden_size))\n",
    "        self.init_c = nn.Parameter(torch.zeros(num_layers, hidden_size))\n",
    "        self.dropout = nn.Dropout(dropout)\n",
    "        self.ln = nn.LayerNorm(hidden_size)\n",
    "        \n",
    "    def forward(self, x, h0=None, c0=None):\n",
    "        # x shape: (input_len, seq_length=110, input_size=104)\n",
    "        batch_size = x.size(0)\n",
    "        if h0==None:\n",
    "            h0 = self.init_h.unsqueeze(1).expand(-1, batch_size, -1).contiguous() # (num_layers, N, H_out)\n",
    "        if c0==None:\n",
    "            c0 = self.init_c.unsqueeze(1).expand(-1, batch_size, -1).contiguous() # (num_layers, N, H_out)\n",
    "\n",
    "        out = self.fc_in(x)\n",
    "        out = self.ln_in(out)\n",
    "        out = self.dropout(out)\n",
    "        out, (h_n, c_n) = self.lstm(out, (h0, c0)) # (N, L, H_out), (num_layers, N, H_out), (num_layers, N, H_out)\n",
    "        out = self.ln(out)\n",
    "        out = self.dropout(out)\n",
    "        predictions = self.fc_out(out) # # (N, L, 6)\n",
    "        \n",
    "        return predictions, h_n, c_n"
   ]
  },
  {
   "cell_type": "markdown",
   "id": "907e9441",
   "metadata": {
    "papermill": {
     "duration": 0.003123,
     "end_time": "2025-06-09T00:22:46.698556",
     "exception": false,
     "start_time": "2025-06-09T00:22:46.695433",
     "status": "completed"
    },
    "tags": []
   },
   "source": [
    "# Training Loop"
   ]
  },
  {
   "cell_type": "code",
   "execution_count": 7,
   "id": "39580ba9",
   "metadata": {
    "execution": {
     "iopub.execute_input": "2025-06-09T00:22:46.706113Z",
     "iopub.status.busy": "2025-06-09T00:22:46.705446Z",
     "iopub.status.idle": "2025-06-09T00:22:46.714256Z",
     "shell.execute_reply": "2025-06-09T00:22:46.713750Z"
    },
    "papermill": {
     "duration": 0.01353,
     "end_time": "2025-06-09T00:22:46.715193",
     "exception": false,
     "start_time": "2025-06-09T00:22:46.701663",
     "status": "completed"
    },
    "tags": []
   },
   "outputs": [],
   "source": [
    "from tqdm import tqdm\n",
    "import torch.nn as nn\n",
    "import torch.optim as optim\n",
    "from torch.optim.lr_scheduler import ReduceLROnPlateau, StepLR\n",
    "from copy import deepcopy\n",
    "\n",
    "def predict(model, inputs:tuple, criterion, isTest:bool):\n",
    "    if isTest:\n",
    "        feature, recovery_pos_roted, recovery_angle_mat = [x.to(device) for x in inputs]\n",
    "    else:\n",
    "        feature, recovery_pos_roted, recovery_angle_mat, label_pos, roted_pos_diff_target, roted_vel_diff_target, yaw_diff_target = [x.to(device) for x in inputs]\n",
    "    \n",
    "    roted_ego_pos_diff_window = feature[:,0,:98]\n",
    "    \n",
    "    roted_pos_diff_pred, roted_vel_diff_pred, yaw_diff_pred = [], [], []    \n",
    "    h = c = None\n",
    "    for t in range(60):\n",
    "        # The first 2 nums are roted_pos_diff_pred, second 2 nums are roted_vel_diff_pred, 5th num is yaw_diff_pred \n",
    "        output, h, c = model(feature, h, c) # (batch_size, 1, output_size)\n",
    "        rpd, rvd, yd = output[:,:,:2], output[:,:,2:4], output[:,:,[4]] # (batch_size, 1, 2), # (batch_size, 1, 2), # (batch_size, 1, 1)\n",
    "        roted_pos_diff_pred.append(rpd)\n",
    "        roted_vel_diff_pred.append(rvd)\n",
    "        yaw_diff_pred.append(yd)\n",
    "        feature = torch.cat([feature[:,:,2:98], rpd, feature[:,:,98+2:98+98], rvd, feature[:,:,98+98+1:], yd], dim=-1)  # 滚动窗口\n",
    "    \n",
    "    roted_pos_diff_pred = torch.cat(roted_pos_diff_pred, dim=1) # (batch_size, 60, 2)\n",
    "    if model.training==False:\n",
    "        for idx_in_batch, scene in enumerate(roted_ego_pos_diff_window):\n",
    "            first_movements_sum = torch.sum(torch.abs(scene))\n",
    "            if first_movements_sum < 1:\n",
    "                roted_pos_diff_pred[idx_in_batch] = torch.zeros((60, 2), device=device)\n",
    "    roted_vel_diff_pred = torch.cat(roted_vel_diff_pred, dim=1) # (batch_size, 60, 2)\n",
    "    yaw_diff_pred = torch.cat(yaw_diff_pred, dim=1) # (batch_size, 60, 2)\n",
    "\n",
    "    if not isTest:\n",
    "        loss_pos = criterion(roted_pos_diff_pred, roted_pos_diff_target)\n",
    "        loss_vel = criterion(roted_vel_diff_pred, roted_vel_diff_target)\n",
    "        loss_yaw = criterion(yaw_diff_pred, yaw_diff_target)\n",
    "    \n",
    "    ###### All teacher forcing\n",
    "    # batch_pred_pos_diff, _, _ = model(batch_X)  # shape: [64, 109, 6]\n",
    "    # batch_pred_pos = batch_pred_pos_diff + batch_recovery_pos\n",
    "    # loss = criterion(batch_pred_pos, batch_label_pos)\n",
    "    ######\n",
    "    \n",
    "    # compute original loss after reverse-transform\n",
    "    roted_pos_diff_pred[:,0,:] += recovery_pos_roted # (batch_size, 2)\n",
    "    roted_pos_pred = roted_pos_diff_pred.cumsum(dim=1) \n",
    "    pos_pred = roted_pos_pred @ recovery_angle_mat\n",
    "    if not isTest:\n",
    "        loss_pos_original = criterion(pos_pred, label_pos)\n",
    "\n",
    "    if not isTest:\n",
    "        return loss_pos, loss_vel, loss_yaw, loss_pos_original\n",
    "    else:\n",
    "        return pos_pred"
   ]
  },
  {
   "cell_type": "code",
   "execution_count": 8,
   "id": "e23faadc",
   "metadata": {
    "execution": {
     "iopub.execute_input": "2025-06-09T00:22:46.723565Z",
     "iopub.status.busy": "2025-06-09T00:22:46.722885Z",
     "iopub.status.idle": "2025-06-09T00:49:44.246275Z",
     "shell.execute_reply": "2025-06-09T00:49:44.245541Z"
    },
    "papermill": {
     "duration": 1617.528861,
     "end_time": "2025-06-09T00:49:44.247504",
     "exception": false,
     "start_time": "2025-06-09T00:22:46.718643",
     "status": "completed"
    },
    "tags": []
   },
   "outputs": [
    {
     "name": "stderr",
     "output_type": "stream",
     "text": [
      "/usr/local/lib/python3.11/dist-packages/torch/optim/lr_scheduler.py:62: UserWarning: The verbose parameter is deprecated. Please use get_last_lr() to access the learning rate.\n",
      "  warnings.warn(\n",
      "Epoch 1: 100%|██████████| 79/79 [00:17<00:00,  4.59it/s]\n"
     ]
    },
    {
     "name": "stdout",
     "output_type": "stream",
     "text": [
      "Using all 10000 samples for training, so this isn't really hold-out validation set\n",
      "Epoch 1/100, LR: [0.001] | Train Loss: 1.0180, 82.3252 | Val Loss: 0.1920, 25.2260\n"
     ]
    },
    {
     "name": "stderr",
     "output_type": "stream",
     "text": [
      "Epoch 2: 100%|██████████| 79/79 [00:16<00:00,  4.88it/s]\n"
     ]
    },
    {
     "name": "stdout",
     "output_type": "stream",
     "text": [
      "Using all 10000 samples for training, so this isn't really hold-out validation set\n",
      "Epoch 2/100, LR: [0.001] | Train Loss: 0.3203, 21.6168 | Val Loss: 0.0880, 16.1135\n"
     ]
    },
    {
     "name": "stderr",
     "output_type": "stream",
     "text": [
      "Epoch 3: 100%|██████████| 79/79 [00:16<00:00,  4.86it/s]\n"
     ]
    },
    {
     "name": "stdout",
     "output_type": "stream",
     "text": [
      "Using all 10000 samples for training, so this isn't really hold-out validation set\n",
      "Epoch 3/100, LR: [0.001] | Train Loss: 0.2278, 17.5386 | Val Loss: 0.0632, 13.5971\n"
     ]
    },
    {
     "name": "stderr",
     "output_type": "stream",
     "text": [
      "Epoch 4: 100%|██████████| 79/79 [00:16<00:00,  4.75it/s]\n"
     ]
    },
    {
     "name": "stdout",
     "output_type": "stream",
     "text": [
      "Using all 10000 samples for training, so this isn't really hold-out validation set\n",
      "Epoch 4/100, LR: [0.001] | Train Loss: 0.1782, 15.2747 | Val Loss: 0.0601, 14.6139\n"
     ]
    },
    {
     "name": "stderr",
     "output_type": "stream",
     "text": [
      "Epoch 5: 100%|██████████| 79/79 [00:16<00:00,  4.82it/s]\n"
     ]
    },
    {
     "name": "stdout",
     "output_type": "stream",
     "text": [
      "Using all 10000 samples for training, so this isn't really hold-out validation set\n",
      "Epoch 5/100, LR: [0.001] | Train Loss: 0.1428, 13.4188 | Val Loss: 0.0523, 16.1272\n"
     ]
    },
    {
     "name": "stderr",
     "output_type": "stream",
     "text": [
      "Epoch 6: 100%|██████████| 79/79 [00:16<00:00,  4.83it/s]\n"
     ]
    },
    {
     "name": "stdout",
     "output_type": "stream",
     "text": [
      "Using all 10000 samples for training, so this isn't really hold-out validation set\n",
      "Epoch 6/100, LR: [0.001] | Train Loss: 0.1241, 12.7242 | Val Loss: 0.0459, 11.5715\n"
     ]
    },
    {
     "name": "stderr",
     "output_type": "stream",
     "text": [
      "Epoch 7: 100%|██████████| 79/79 [00:16<00:00,  4.83it/s]\n"
     ]
    },
    {
     "name": "stdout",
     "output_type": "stream",
     "text": [
      "Using all 10000 samples for training, so this isn't really hold-out validation set\n",
      "Epoch 7/100, LR: [0.001] | Train Loss: 0.1074, 11.7187 | Val Loss: 0.0457, 14.5052\n"
     ]
    },
    {
     "name": "stderr",
     "output_type": "stream",
     "text": [
      "Epoch 8: 100%|██████████| 79/79 [00:16<00:00,  4.75it/s]\n"
     ]
    },
    {
     "name": "stdout",
     "output_type": "stream",
     "text": [
      "Using all 10000 samples for training, so this isn't really hold-out validation set\n",
      "Epoch 8/100, LR: [0.001] | Train Loss: 0.0959, 11.4163 | Val Loss: 0.0369, 11.9281\n"
     ]
    },
    {
     "name": "stderr",
     "output_type": "stream",
     "text": [
      "Epoch 9: 100%|██████████| 79/79 [00:16<00:00,  4.83it/s]\n"
     ]
    },
    {
     "name": "stdout",
     "output_type": "stream",
     "text": [
      "Using all 10000 samples for training, so this isn't really hold-out validation set\n",
      "Epoch 9/100, LR: [0.001] | Train Loss: 0.0892, 10.6928 | Val Loss: 0.0372, 10.6084\n"
     ]
    },
    {
     "name": "stderr",
     "output_type": "stream",
     "text": [
      "Epoch 10: 100%|██████████| 79/79 [00:16<00:00,  4.82it/s]\n"
     ]
    },
    {
     "name": "stdout",
     "output_type": "stream",
     "text": [
      "Using all 10000 samples for training, so this isn't really hold-out validation set\n",
      "Epoch 10/100, LR: [0.001] | Train Loss: 0.0810, 10.1582 | Val Loss: 0.0377, 10.8346\n"
     ]
    },
    {
     "name": "stderr",
     "output_type": "stream",
     "text": [
      "Epoch 11: 100%|██████████| 79/79 [00:16<00:00,  4.78it/s]\n"
     ]
    },
    {
     "name": "stdout",
     "output_type": "stream",
     "text": [
      "Using all 10000 samples for training, so this isn't really hold-out validation set\n",
      "Epoch 11/100, LR: [0.001] | Train Loss: 0.0745, 10.2034 | Val Loss: 0.0354, 10.0238\n"
     ]
    },
    {
     "name": "stderr",
     "output_type": "stream",
     "text": [
      "Epoch 12: 100%|██████████| 79/79 [00:16<00:00,  4.76it/s]\n"
     ]
    },
    {
     "name": "stdout",
     "output_type": "stream",
     "text": [
      "Using all 10000 samples for training, so this isn't really hold-out validation set\n",
      "Epoch 12/100, LR: [0.001] | Train Loss: 0.0689, 9.9663 | Val Loss: 0.0337, 10.5914\n"
     ]
    },
    {
     "name": "stderr",
     "output_type": "stream",
     "text": [
      "Epoch 13: 100%|██████████| 79/79 [00:16<00:00,  4.80it/s]\n"
     ]
    },
    {
     "name": "stdout",
     "output_type": "stream",
     "text": [
      "Using all 10000 samples for training, so this isn't really hold-out validation set\n",
      "Epoch 13/100, LR: [0.001] | Train Loss: 0.0660, 9.8664 | Val Loss: 0.0308, 9.9049\n"
     ]
    },
    {
     "name": "stderr",
     "output_type": "stream",
     "text": [
      "Epoch 14: 100%|██████████| 79/79 [00:16<00:00,  4.77it/s]\n"
     ]
    },
    {
     "name": "stdout",
     "output_type": "stream",
     "text": [
      "Using all 10000 samples for training, so this isn't really hold-out validation set\n",
      "Epoch 14/100, LR: [0.001] | Train Loss: 0.0607, 9.4754 | Val Loss: 0.0321, 10.6686\n"
     ]
    },
    {
     "name": "stderr",
     "output_type": "stream",
     "text": [
      "Epoch 15: 100%|██████████| 79/79 [00:16<00:00,  4.73it/s]\n"
     ]
    },
    {
     "name": "stdout",
     "output_type": "stream",
     "text": [
      "Using all 10000 samples for training, so this isn't really hold-out validation set\n",
      "Epoch 15/100, LR: [0.001] | Train Loss: 0.0587, 9.4796 | Val Loss: 0.0304, 9.3631\n"
     ]
    },
    {
     "name": "stderr",
     "output_type": "stream",
     "text": [
      "Epoch 16: 100%|██████████| 79/79 [00:16<00:00,  4.70it/s]\n"
     ]
    },
    {
     "name": "stdout",
     "output_type": "stream",
     "text": [
      "Using all 10000 samples for training, so this isn't really hold-out validation set\n",
      "Epoch 16/100, LR: [0.001] | Train Loss: 0.0538, 9.1589 | Val Loss: 0.0304, 10.5089\n"
     ]
    },
    {
     "name": "stderr",
     "output_type": "stream",
     "text": [
      "Epoch 17: 100%|██████████| 79/79 [00:16<00:00,  4.73it/s]\n"
     ]
    },
    {
     "name": "stdout",
     "output_type": "stream",
     "text": [
      "Using all 10000 samples for training, so this isn't really hold-out validation set\n",
      "Epoch 17/100, LR: [0.001] | Train Loss: 0.0530, 9.0142 | Val Loss: 0.0319, 11.0994\n"
     ]
    },
    {
     "name": "stderr",
     "output_type": "stream",
     "text": [
      "Epoch 18: 100%|██████████| 79/79 [00:16<00:00,  4.72it/s]\n"
     ]
    },
    {
     "name": "stdout",
     "output_type": "stream",
     "text": [
      "Using all 10000 samples for training, so this isn't really hold-out validation set\n",
      "Epoch 18/100, LR: [0.001] | Train Loss: 0.0511, 9.1077 | Val Loss: 0.0304, 9.8896\n"
     ]
    },
    {
     "name": "stderr",
     "output_type": "stream",
     "text": [
      "Epoch 19: 100%|██████████| 79/79 [00:16<00:00,  4.67it/s]\n"
     ]
    },
    {
     "name": "stdout",
     "output_type": "stream",
     "text": [
      "Using all 10000 samples for training, so this isn't really hold-out validation set\n",
      "Epoch 19/100, LR: [0.001] | Train Loss: 0.0504, 9.0794 | Val Loss: 0.0343, 9.6446\n"
     ]
    },
    {
     "name": "stderr",
     "output_type": "stream",
     "text": [
      "Epoch 20: 100%|██████████| 79/79 [00:16<00:00,  4.67it/s]\n"
     ]
    },
    {
     "name": "stdout",
     "output_type": "stream",
     "text": [
      "Using all 10000 samples for training, so this isn't really hold-out validation set\n",
      "Epoch 20/100, LR: [0.00015] | Train Loss: 0.0477, 8.8238 | Val Loss: 0.0281, 9.9744\n"
     ]
    },
    {
     "name": "stderr",
     "output_type": "stream",
     "text": [
      "Epoch 21: 100%|██████████| 79/79 [00:16<00:00,  4.79it/s]\n"
     ]
    },
    {
     "name": "stdout",
     "output_type": "stream",
     "text": [
      "Using all 10000 samples for training, so this isn't really hold-out validation set\n",
      "Epoch 21/100, LR: [0.00015] | Train Loss: 0.0436, 8.0522 | Val Loss: 0.0258, 8.8680\n"
     ]
    },
    {
     "name": "stderr",
     "output_type": "stream",
     "text": [
      "Epoch 22: 100%|██████████| 79/79 [00:16<00:00,  4.79it/s]\n"
     ]
    },
    {
     "name": "stdout",
     "output_type": "stream",
     "text": [
      "Using all 10000 samples for training, so this isn't really hold-out validation set\n",
      "Epoch 22/100, LR: [0.00015] | Train Loss: 0.0430, 7.7612 | Val Loss: 0.0256, 8.5418\n"
     ]
    },
    {
     "name": "stderr",
     "output_type": "stream",
     "text": [
      "Epoch 23: 100%|██████████| 79/79 [00:16<00:00,  4.71it/s]\n"
     ]
    },
    {
     "name": "stdout",
     "output_type": "stream",
     "text": [
      "Using all 10000 samples for training, so this isn't really hold-out validation set\n",
      "Epoch 23/100, LR: [0.00015] | Train Loss: 0.0426, 7.9432 | Val Loss: 0.0252, 8.5325\n"
     ]
    },
    {
     "name": "stderr",
     "output_type": "stream",
     "text": [
      "Epoch 24: 100%|██████████| 79/79 [00:16<00:00,  4.72it/s]\n"
     ]
    },
    {
     "name": "stdout",
     "output_type": "stream",
     "text": [
      "Using all 10000 samples for training, so this isn't really hold-out validation set\n",
      "Epoch 24/100, LR: [0.00015] | Train Loss: 0.0422, 7.7409 | Val Loss: 0.0244, 8.2765\n"
     ]
    },
    {
     "name": "stderr",
     "output_type": "stream",
     "text": [
      "Epoch 25: 100%|██████████| 79/79 [00:16<00:00,  4.79it/s]\n"
     ]
    },
    {
     "name": "stdout",
     "output_type": "stream",
     "text": [
      "Using all 10000 samples for training, so this isn't really hold-out validation set\n",
      "Epoch 25/100, LR: [0.00015] | Train Loss: 0.0414, 7.6575 | Val Loss: 0.0244, 8.3712\n"
     ]
    },
    {
     "name": "stderr",
     "output_type": "stream",
     "text": [
      "Epoch 26: 100%|██████████| 79/79 [00:16<00:00,  4.76it/s]\n"
     ]
    },
    {
     "name": "stdout",
     "output_type": "stream",
     "text": [
      "Using all 10000 samples for training, so this isn't really hold-out validation set\n",
      "Epoch 26/100, LR: [0.00015] | Train Loss: 0.0411, 7.7189 | Val Loss: 0.0249, 8.4169\n"
     ]
    },
    {
     "name": "stderr",
     "output_type": "stream",
     "text": [
      "Epoch 27: 100%|██████████| 79/79 [00:16<00:00,  4.71it/s]\n"
     ]
    },
    {
     "name": "stdout",
     "output_type": "stream",
     "text": [
      "Using all 10000 samples for training, so this isn't really hold-out validation set\n",
      "Epoch 27/100, LR: [0.00015] | Train Loss: 0.0407, 7.6612 | Val Loss: 0.0250, 8.5305\n"
     ]
    },
    {
     "name": "stderr",
     "output_type": "stream",
     "text": [
      "Epoch 28: 100%|██████████| 79/79 [00:16<00:00,  4.73it/s]\n"
     ]
    },
    {
     "name": "stdout",
     "output_type": "stream",
     "text": [
      "Using all 10000 samples for training, so this isn't really hold-out validation set\n",
      "Epoch 28/100, LR: [0.00015] | Train Loss: 0.0399, 7.6021 | Val Loss: 0.0239, 8.2465\n"
     ]
    },
    {
     "name": "stderr",
     "output_type": "stream",
     "text": [
      "Epoch 29: 100%|██████████| 79/79 [00:16<00:00,  4.76it/s]\n"
     ]
    },
    {
     "name": "stdout",
     "output_type": "stream",
     "text": [
      "Using all 10000 samples for training, so this isn't really hold-out validation set\n",
      "Epoch 29/100, LR: [0.00015] | Train Loss: 0.0402, 7.5999 | Val Loss: 0.0252, 8.5731\n"
     ]
    },
    {
     "name": "stderr",
     "output_type": "stream",
     "text": [
      "Epoch 30: 100%|██████████| 79/79 [00:16<00:00,  4.74it/s]\n"
     ]
    },
    {
     "name": "stdout",
     "output_type": "stream",
     "text": [
      "Using all 10000 samples for training, so this isn't really hold-out validation set\n",
      "Epoch 30/100, LR: [0.00015] | Train Loss: 0.0399, 7.8132 | Val Loss: 0.0247, 8.4515\n"
     ]
    },
    {
     "name": "stderr",
     "output_type": "stream",
     "text": [
      "Epoch 31: 100%|██████████| 79/79 [00:16<00:00,  4.78it/s]\n"
     ]
    },
    {
     "name": "stdout",
     "output_type": "stream",
     "text": [
      "Using all 10000 samples for training, so this isn't really hold-out validation set\n",
      "Epoch 31/100, LR: [0.00015] | Train Loss: 0.0393, 7.6345 | Val Loss: 0.0241, 8.3966\n"
     ]
    },
    {
     "name": "stderr",
     "output_type": "stream",
     "text": [
      "Epoch 32: 100%|██████████| 79/79 [00:16<00:00,  4.81it/s]\n"
     ]
    },
    {
     "name": "stdout",
     "output_type": "stream",
     "text": [
      "Using all 10000 samples for training, so this isn't really hold-out validation set\n",
      "Epoch 32/100, LR: [0.00015] | Train Loss: 0.0392, 7.6331 | Val Loss: 0.0238, 8.4135\n"
     ]
    },
    {
     "name": "stderr",
     "output_type": "stream",
     "text": [
      "Epoch 33: 100%|██████████| 79/79 [00:16<00:00,  4.86it/s]\n"
     ]
    },
    {
     "name": "stdout",
     "output_type": "stream",
     "text": [
      "Using all 10000 samples for training, so this isn't really hold-out validation set\n",
      "Epoch 33/100, LR: [2.2499999999999998e-05] | Train Loss: 0.0386, 7.5719 | Val Loss: 0.0241, 8.2842\n"
     ]
    },
    {
     "name": "stderr",
     "output_type": "stream",
     "text": [
      "Epoch 34: 100%|██████████| 79/79 [00:16<00:00,  4.83it/s]\n"
     ]
    },
    {
     "name": "stdout",
     "output_type": "stream",
     "text": [
      "Using all 10000 samples for training, so this isn't really hold-out validation set\n",
      "Epoch 34/100, LR: [2.2499999999999998e-05] | Train Loss: 0.0384, 7.3362 | Val Loss: 0.0232, 7.9749\n"
     ]
    },
    {
     "name": "stderr",
     "output_type": "stream",
     "text": [
      "Epoch 35: 100%|██████████| 79/79 [00:16<00:00,  4.65it/s]\n"
     ]
    },
    {
     "name": "stdout",
     "output_type": "stream",
     "text": [
      "Using all 10000 samples for training, so this isn't really hold-out validation set\n",
      "Epoch 35/100, LR: [2.2499999999999998e-05] | Train Loss: 0.0381, 7.2888 | Val Loss: 0.0235, 8.0267\n"
     ]
    },
    {
     "name": "stderr",
     "output_type": "stream",
     "text": [
      "Epoch 36: 100%|██████████| 79/79 [00:16<00:00,  4.74it/s]\n"
     ]
    },
    {
     "name": "stdout",
     "output_type": "stream",
     "text": [
      "Using all 10000 samples for training, so this isn't really hold-out validation set\n",
      "Epoch 36/100, LR: [2.2499999999999998e-05] | Train Loss: 0.0379, 7.3613 | Val Loss: 0.0234, 8.2319\n"
     ]
    },
    {
     "name": "stderr",
     "output_type": "stream",
     "text": [
      "Epoch 37: 100%|██████████| 79/79 [00:16<00:00,  4.71it/s]\n"
     ]
    },
    {
     "name": "stdout",
     "output_type": "stream",
     "text": [
      "Using all 10000 samples for training, so this isn't really hold-out validation set\n",
      "Epoch 37/100, LR: [2.2499999999999998e-05] | Train Loss: 0.0376, 7.2422 | Val Loss: 0.0229, 7.9683\n"
     ]
    },
    {
     "name": "stderr",
     "output_type": "stream",
     "text": [
      "Epoch 38: 100%|██████████| 79/79 [00:16<00:00,  4.66it/s]\n"
     ]
    },
    {
     "name": "stdout",
     "output_type": "stream",
     "text": [
      "Using all 10000 samples for training, so this isn't really hold-out validation set\n",
      "Epoch 38/100, LR: [2.2499999999999998e-05] | Train Loss: 0.0373, 7.2014 | Val Loss: 0.0234, 8.1353\n"
     ]
    },
    {
     "name": "stderr",
     "output_type": "stream",
     "text": [
      "Epoch 39: 100%|██████████| 79/79 [00:16<00:00,  4.67it/s]\n"
     ]
    },
    {
     "name": "stdout",
     "output_type": "stream",
     "text": [
      "Using all 10000 samples for training, so this isn't really hold-out validation set\n",
      "Epoch 39/100, LR: [2.2499999999999998e-05] | Train Loss: 0.0371, 7.1853 | Val Loss: 0.0234, 8.2235\n"
     ]
    },
    {
     "name": "stderr",
     "output_type": "stream",
     "text": [
      "Epoch 40: 100%|██████████| 79/79 [00:16<00:00,  4.70it/s]\n"
     ]
    },
    {
     "name": "stdout",
     "output_type": "stream",
     "text": [
      "Using all 10000 samples for training, so this isn't really hold-out validation set\n",
      "Epoch 40/100, LR: [2.2499999999999998e-05] | Train Loss: 0.0376, 7.2736 | Val Loss: 0.0229, 7.8968\n"
     ]
    },
    {
     "name": "stderr",
     "output_type": "stream",
     "text": [
      "Epoch 41: 100%|██████████| 79/79 [00:16<00:00,  4.77it/s]\n"
     ]
    },
    {
     "name": "stdout",
     "output_type": "stream",
     "text": [
      "Using all 10000 samples for training, so this isn't really hold-out validation set\n",
      "Epoch 41/100, LR: [2.2499999999999998e-05] | Train Loss: 0.0375, 7.2682 | Val Loss: 0.0230, 7.9418\n"
     ]
    },
    {
     "name": "stderr",
     "output_type": "stream",
     "text": [
      "Epoch 42: 100%|██████████| 79/79 [00:16<00:00,  4.73it/s]\n"
     ]
    },
    {
     "name": "stdout",
     "output_type": "stream",
     "text": [
      "Using all 10000 samples for training, so this isn't really hold-out validation set\n",
      "Epoch 42/100, LR: [2.2499999999999998e-05] | Train Loss: 0.0371, 7.2459 | Val Loss: 0.0229, 7.9329\n"
     ]
    },
    {
     "name": "stderr",
     "output_type": "stream",
     "text": [
      "Epoch 43: 100%|██████████| 79/79 [00:16<00:00,  4.76it/s]\n"
     ]
    },
    {
     "name": "stdout",
     "output_type": "stream",
     "text": [
      "Using all 10000 samples for training, so this isn't really hold-out validation set\n",
      "Epoch 43/100, LR: [2.2499999999999998e-05] | Train Loss: 0.0372, 7.3358 | Val Loss: 0.0229, 8.0908\n"
     ]
    },
    {
     "name": "stderr",
     "output_type": "stream",
     "text": [
      "Epoch 44: 100%|██████████| 79/79 [00:16<00:00,  4.79it/s]\n"
     ]
    },
    {
     "name": "stdout",
     "output_type": "stream",
     "text": [
      "Using all 10000 samples for training, so this isn't really hold-out validation set\n",
      "Epoch 44/100, LR: [2.2499999999999998e-05] | Train Loss: 0.0370, 7.2676 | Val Loss: 0.0229, 8.0092\n"
     ]
    },
    {
     "name": "stderr",
     "output_type": "stream",
     "text": [
      "Epoch 45: 100%|██████████| 79/79 [00:16<00:00,  4.78it/s]\n"
     ]
    },
    {
     "name": "stdout",
     "output_type": "stream",
     "text": [
      "Using all 10000 samples for training, so this isn't really hold-out validation set\n",
      "Epoch 45/100, LR: [3.3749999999999995e-06] | Train Loss: 0.0367, 7.2027 | Val Loss: 0.0228, 7.9066\n"
     ]
    },
    {
     "name": "stderr",
     "output_type": "stream",
     "text": [
      "Epoch 46: 100%|██████████| 79/79 [00:16<00:00,  4.72it/s]\n"
     ]
    },
    {
     "name": "stdout",
     "output_type": "stream",
     "text": [
      "Using all 10000 samples for training, so this isn't really hold-out validation set\n",
      "Epoch 46/100, LR: [3.3749999999999995e-06] | Train Loss: 0.0366, 7.2004 | Val Loss: 0.0228, 7.9233\n"
     ]
    },
    {
     "name": "stderr",
     "output_type": "stream",
     "text": [
      "Epoch 47: 100%|██████████| 79/79 [00:16<00:00,  4.74it/s]\n"
     ]
    },
    {
     "name": "stdout",
     "output_type": "stream",
     "text": [
      "Using all 10000 samples for training, so this isn't really hold-out validation set\n",
      "Epoch 47/100, LR: [3.3749999999999995e-06] | Train Loss: 0.0365, 7.1266 | Val Loss: 0.0229, 7.8969\n"
     ]
    },
    {
     "name": "stderr",
     "output_type": "stream",
     "text": [
      "Epoch 48: 100%|██████████| 79/79 [00:16<00:00,  4.73it/s]\n"
     ]
    },
    {
     "name": "stdout",
     "output_type": "stream",
     "text": [
      "Using all 10000 samples for training, so this isn't really hold-out validation set\n",
      "Epoch 48/100, LR: [3.3749999999999995e-06] | Train Loss: 0.0367, 7.2281 | Val Loss: 0.0228, 7.8940\n"
     ]
    },
    {
     "name": "stderr",
     "output_type": "stream",
     "text": [
      "Epoch 49: 100%|██████████| 79/79 [00:16<00:00,  4.77it/s]\n"
     ]
    },
    {
     "name": "stdout",
     "output_type": "stream",
     "text": [
      "Using all 10000 samples for training, so this isn't really hold-out validation set\n",
      "Epoch 49/100, LR: [3.3749999999999995e-06] | Train Loss: 0.0367, 7.1314 | Val Loss: 0.0228, 7.8715\n"
     ]
    },
    {
     "name": "stderr",
     "output_type": "stream",
     "text": [
      "Epoch 50: 100%|██████████| 79/79 [00:16<00:00,  4.72it/s]\n"
     ]
    },
    {
     "name": "stdout",
     "output_type": "stream",
     "text": [
      "Using all 10000 samples for training, so this isn't really hold-out validation set\n",
      "Epoch 50/100, LR: [3.3749999999999995e-06] | Train Loss: 0.0367, 7.1754 | Val Loss: 0.0229, 7.9865\n"
     ]
    },
    {
     "name": "stderr",
     "output_type": "stream",
     "text": [
      "Epoch 51: 100%|██████████| 79/79 [00:16<00:00,  4.68it/s]\n"
     ]
    },
    {
     "name": "stdout",
     "output_type": "stream",
     "text": [
      "Using all 10000 samples for training, so this isn't really hold-out validation set\n",
      "Epoch 51/100, LR: [3.3749999999999995e-06] | Train Loss: 0.0367, 7.1299 | Val Loss: 0.0229, 7.9022\n"
     ]
    },
    {
     "name": "stderr",
     "output_type": "stream",
     "text": [
      "Epoch 52: 100%|██████████| 79/79 [00:16<00:00,  4.73it/s]\n"
     ]
    },
    {
     "name": "stdout",
     "output_type": "stream",
     "text": [
      "Using all 10000 samples for training, so this isn't really hold-out validation set\n",
      "Epoch 52/100, LR: [3.3749999999999995e-06] | Train Loss: 0.0368, 7.1447 | Val Loss: 0.0228, 7.8514\n"
     ]
    },
    {
     "name": "stderr",
     "output_type": "stream",
     "text": [
      "Epoch 53: 100%|██████████| 79/79 [00:16<00:00,  4.79it/s]\n"
     ]
    },
    {
     "name": "stdout",
     "output_type": "stream",
     "text": [
      "Using all 10000 samples for training, so this isn't really hold-out validation set\n",
      "Epoch 53/100, LR: [3.3749999999999995e-06] | Train Loss: 0.0368, 7.1689 | Val Loss: 0.0228, 7.8405\n"
     ]
    },
    {
     "name": "stderr",
     "output_type": "stream",
     "text": [
      "Epoch 54: 100%|██████████| 79/79 [00:16<00:00,  4.68it/s]\n"
     ]
    },
    {
     "name": "stdout",
     "output_type": "stream",
     "text": [
      "Using all 10000 samples for training, so this isn't really hold-out validation set\n",
      "Epoch 54/100, LR: [3.3749999999999995e-06] | Train Loss: 0.0367, 7.1614 | Val Loss: 0.0230, 7.9341\n"
     ]
    },
    {
     "name": "stderr",
     "output_type": "stream",
     "text": [
      "Epoch 55: 100%|██████████| 79/79 [00:16<00:00,  4.67it/s]\n"
     ]
    },
    {
     "name": "stdout",
     "output_type": "stream",
     "text": [
      "Using all 10000 samples for training, so this isn't really hold-out validation set\n",
      "Epoch 55/100, LR: [3.3749999999999995e-06] | Train Loss: 0.0367, 7.1213 | Val Loss: 0.0227, 7.8374\n"
     ]
    },
    {
     "name": "stderr",
     "output_type": "stream",
     "text": [
      "Epoch 56: 100%|██████████| 79/79 [00:16<00:00,  4.73it/s]\n"
     ]
    },
    {
     "name": "stdout",
     "output_type": "stream",
     "text": [
      "Using all 10000 samples for training, so this isn't really hold-out validation set\n",
      "Epoch 56/100, LR: [3.3749999999999995e-06] | Train Loss: 0.0368, 7.1753 | Val Loss: 0.0228, 7.8902\n"
     ]
    },
    {
     "name": "stderr",
     "output_type": "stream",
     "text": [
      "Epoch 57: 100%|██████████| 79/79 [00:16<00:00,  4.72it/s]\n"
     ]
    },
    {
     "name": "stdout",
     "output_type": "stream",
     "text": [
      "Using all 10000 samples for training, so this isn't really hold-out validation set\n",
      "Epoch 57/100, LR: [3.3749999999999995e-06] | Train Loss: 0.0366, 7.1077 | Val Loss: 0.0228, 7.8452\n"
     ]
    },
    {
     "name": "stderr",
     "output_type": "stream",
     "text": [
      "Epoch 58: 100%|██████████| 79/79 [00:17<00:00,  4.64it/s]\n"
     ]
    },
    {
     "name": "stdout",
     "output_type": "stream",
     "text": [
      "Using all 10000 samples for training, so this isn't really hold-out validation set\n",
      "Epoch 58/100, LR: [3.3749999999999995e-06] | Train Loss: 0.0366, 7.1437 | Val Loss: 0.0226, 7.8080\n"
     ]
    },
    {
     "name": "stderr",
     "output_type": "stream",
     "text": [
      "Epoch 59: 100%|██████████| 79/79 [00:17<00:00,  4.58it/s]\n"
     ]
    },
    {
     "name": "stdout",
     "output_type": "stream",
     "text": [
      "Using all 10000 samples for training, so this isn't really hold-out validation set\n",
      "Epoch 59/100, LR: [3.3749999999999995e-06] | Train Loss: 0.0366, 7.1193 | Val Loss: 0.0228, 7.8636\n"
     ]
    },
    {
     "name": "stderr",
     "output_type": "stream",
     "text": [
      "Epoch 60: 100%|██████████| 79/79 [00:17<00:00,  4.63it/s]\n"
     ]
    },
    {
     "name": "stdout",
     "output_type": "stream",
     "text": [
      "Using all 10000 samples for training, so this isn't really hold-out validation set\n",
      "Epoch 60/100, LR: [3.3749999999999995e-06] | Train Loss: 0.0367, 7.2052 | Val Loss: 0.0228, 7.9666\n"
     ]
    },
    {
     "name": "stderr",
     "output_type": "stream",
     "text": [
      "Epoch 61: 100%|██████████| 79/79 [00:17<00:00,  4.62it/s]\n"
     ]
    },
    {
     "name": "stdout",
     "output_type": "stream",
     "text": [
      "Using all 10000 samples for training, so this isn't really hold-out validation set\n",
      "Epoch 61/100, LR: [3.3749999999999995e-06] | Train Loss: 0.0366, 7.1515 | Val Loss: 0.0228, 7.9533\n"
     ]
    },
    {
     "name": "stderr",
     "output_type": "stream",
     "text": [
      "Epoch 62: 100%|██████████| 79/79 [00:17<00:00,  4.53it/s]\n"
     ]
    },
    {
     "name": "stdout",
     "output_type": "stream",
     "text": [
      "Using all 10000 samples for training, so this isn't really hold-out validation set\n",
      "Epoch 62/100, LR: [3.3749999999999995e-06] | Train Loss: 0.0365, 7.1265 | Val Loss: 0.0227, 7.8259\n"
     ]
    },
    {
     "name": "stderr",
     "output_type": "stream",
     "text": [
      "Epoch 63: 100%|██████████| 79/79 [00:17<00:00,  4.50it/s]\n"
     ]
    },
    {
     "name": "stdout",
     "output_type": "stream",
     "text": [
      "Using all 10000 samples for training, so this isn't really hold-out validation set\n",
      "Epoch 63/100, LR: [5.062499999999999e-07] | Train Loss: 0.0366, 7.1554 | Val Loss: 0.0228, 7.9061\n"
     ]
    },
    {
     "name": "stderr",
     "output_type": "stream",
     "text": [
      "Epoch 64: 100%|██████████| 79/79 [00:17<00:00,  4.62it/s]\n"
     ]
    },
    {
     "name": "stdout",
     "output_type": "stream",
     "text": [
      "Using all 10000 samples for training, so this isn't really hold-out validation set\n",
      "Epoch 64/100, LR: [5.062499999999999e-07] | Train Loss: 0.0363, 7.0394 | Val Loss: 0.0228, 7.8829\n"
     ]
    },
    {
     "name": "stderr",
     "output_type": "stream",
     "text": [
      "Epoch 65: 100%|██████████| 79/79 [00:17<00:00,  4.58it/s]\n"
     ]
    },
    {
     "name": "stdout",
     "output_type": "stream",
     "text": [
      "Using all 10000 samples for training, so this isn't really hold-out validation set\n",
      "Epoch 65/100, LR: [5.062499999999999e-07] | Train Loss: 0.0366, 7.2249 | Val Loss: 0.0227, 7.8699\n"
     ]
    },
    {
     "name": "stderr",
     "output_type": "stream",
     "text": [
      "Epoch 66: 100%|██████████| 79/79 [00:17<00:00,  4.64it/s]\n"
     ]
    },
    {
     "name": "stdout",
     "output_type": "stream",
     "text": [
      "Using all 10000 samples for training, so this isn't really hold-out validation set\n",
      "Epoch 66/100, LR: [5.062499999999999e-07] | Train Loss: 0.0365, 7.1494 | Val Loss: 0.0226, 7.8245\n"
     ]
    },
    {
     "name": "stderr",
     "output_type": "stream",
     "text": [
      "Epoch 67: 100%|██████████| 79/79 [00:17<00:00,  4.61it/s]\n"
     ]
    },
    {
     "name": "stdout",
     "output_type": "stream",
     "text": [
      "Using all 10000 samples for training, so this isn't really hold-out validation set\n",
      "Epoch 67/100, LR: [5.062499999999999e-07] | Train Loss: 0.0365, 7.1229 | Val Loss: 0.0228, 7.8954\n"
     ]
    },
    {
     "name": "stderr",
     "output_type": "stream",
     "text": [
      "Epoch 68: 100%|██████████| 79/79 [00:17<00:00,  4.61it/s]\n"
     ]
    },
    {
     "name": "stdout",
     "output_type": "stream",
     "text": [
      "Using all 10000 samples for training, so this isn't really hold-out validation set\n",
      "Epoch 68/100, LR: [7.593749999999999e-08] | Train Loss: 0.0364, 7.0449 | Val Loss: 0.0226, 7.8400\n",
      "training finished, best val loss = 7.808046318307707\n"
     ]
    },
    {
     "data": {
      "image/png": "[encoded data removed]",
      "text/plain": [
       "<Figure size 800x500 with 1 Axes>"
      ]
     },
     "metadata": {},
     "output_type": "display_data"
    }
   ],
   "source": [
    "criterion = nn.MSELoss(reduction='mean')  # For regression task\n",
    "def train_model(model, train_loader, val_loader, epochs, optimizer, scheduler):\n",
    " \n",
    "    train_loss_list = []\n",
    "    val_loss_list = []\n",
    "\n",
    "    model.to(device)\n",
    "    best_loss = np.inf\n",
    "    best_model = None\n",
    "    patience = 10\n",
    "    isTest = False\n",
    "    \n",
    "    for epoch in range(epochs):\n",
    "        model.train()\n",
    "        train_loss = 0.0\n",
    "        train_loss_original = 0.0\n",
    "        train_loader = train_val_loader    \n",
    "        if os.environ.get(\"KAGGLE_KERNEL_RUN_TYPE\") == \"Batch\":\n",
    "            train_loader = train_val_loader\n",
    "        for inputs in tqdm(train_loader, desc=f'Epoch {epoch+1}'):\n",
    "            optimizer.zero_grad()\n",
    "            loss_pos, loss_vel, loss_yaw, loss_pos_original = predict(model, inputs, criterion, isTest)\n",
    "            (loss_pos_original+loss_vel+loss_yaw).backward()\n",
    "            optimizer.step()\n",
    "            train_loss += loss_pos.item() # MSE doesn't average but sums when the reduction is 'sum'\n",
    "            train_loss_original += loss_pos_original.item()\n",
    "        train_loss /= len(train_loader)\n",
    "        train_loss_original /= len(train_loader)\n",
    "        train_loss_list.append(train_loss_original)\n",
    "        \n",
    "        # Validation phase (50-109 autoregressive)\n",
    "        model.eval()\n",
    "        val_loss = 0.0\n",
    "        val_loss_original = 0.0\n",
    "        if os.environ.get(\"KAGGLE_KERNEL_RUN_TYPE\") == \"Batch\":\n",
    "            print(\"Using all 10000 samples for training, so this isn't really hold-out validation set\")\n",
    "            val_loader = train_val_loader\n",
    "        with torch.no_grad():\n",
    "            for inputs in val_loader:\n",
    "                loss_pos, loss_vel, loss_yaw, loss_pos_original = predict(model, inputs, criterion, isTest)\n",
    "                val_loss += loss_pos.item()\n",
    "                val_loss_original += loss_pos_original.item()\n",
    "        val_loss /= len(val_loader)\n",
    "        val_loss_original /= len(val_loader)\n",
    "        val_loss_list.append(val_loss_original)\n",
    "        scheduler.step(val_loss_original)\n",
    "\n",
    "        print(f'Epoch {epoch+1}/{epochs}, LR: {scheduler.get_last_lr()} | Train Loss: {train_loss:.4f}, {train_loss_original:.4f} | Val Loss: {val_loss:.4f}, {val_loss_original:.4f}')\n",
    "\n",
    "        if val_loss_original < best_loss:\n",
    "            best_loss = val_loss_original\n",
    "            best_model = deepcopy(model)\n",
    "            patience = 10\n",
    "        else:\n",
    "            patience -= 1\n",
    "            if patience <= 0:\n",
    "                break\n",
    "    \n",
    "    return best_loss, best_model, train_loss_list, val_loss_list\n",
    "    \n",
    "model = OneStepLSTM(input_size=feature_size, hidden_size=256, output_size=output_size, num_layers=2, dropout=0.2)\n",
    "optimizer = optim.Adam(model.parameters(), lr=1e-3, weight_decay=1e-3)\n",
    "scheduler = ReduceLROnPlateau(optimizer, mode='min', factor=0.15, patience=4, verbose=True)\n",
    "best_loss, model, train_loss_list, val_loss_list = train_model(model=model, train_loader=train_loader, val_loader=val_loader, epochs=100, optimizer=optimizer, scheduler=scheduler)\n",
    "print('training finished, best val loss =', best_loss)\n",
    "\n",
    "plt.figure(figsize=(8,5))\n",
    "plt.plot(train_loss_list, label=\"Train Loss (World Frame)\")\n",
    "plt.plot(val_loss_list, label=\"Val Loss (World Frame)\")\n",
    "plt.xlabel(\"Epoch\")\n",
    "plt.ylabel(\"MSE Loss\")\n",
    "plt.title(\"Training & Validation Loss Over Epochs\")\n",
    "plt.legend()\n",
    "plt.grid(True)\n",
    "plt.show()"
   ]
  },
  {
   "cell_type": "code",
   "execution_count": 9,
   "id": "bf5fa106",
   "metadata": {
    "execution": {
     "iopub.execute_input": "2025-06-09T00:49:44.726849Z",
     "iopub.status.busy": "2025-06-09T00:49:44.726458Z",
     "iopub.status.idle": "2025-06-09T00:49:44.729943Z",
     "shell.execute_reply": "2025-06-09T00:49:44.729331Z"
    },
    "papermill": {
     "duration": 0.228565,
     "end_time": "2025-06-09T00:49:44.730974",
     "exception": false,
     "start_time": "2025-06-09T00:49:44.502409",
     "status": "completed"
    },
    "tags": []
   },
   "outputs": [],
   "source": [
    "# raise ValueError(\"Stop here\")"
   ]
  },
  {
   "cell_type": "markdown",
   "id": "e95d03a9",
   "metadata": {
    "papermill": {
     "duration": 0.221496,
     "end_time": "2025-06-09T00:49:45.176989",
     "exception": false,
     "start_time": "2025-06-09T00:49:44.955493",
     "status": "completed"
    },
    "tags": []
   },
   "source": [
    "# Generate predictions for a few scenes and visualize "
   ]
  },
  {
   "cell_type": "code",
   "execution_count": 10,
   "id": "3d4bb029",
   "metadata": {
    "execution": {
     "iopub.execute_input": "2025-06-09T00:49:45.684983Z",
     "iopub.status.busy": "2025-06-09T00:49:45.684700Z",
     "iopub.status.idle": "2025-06-09T00:49:45.709036Z",
     "shell.execute_reply": "2025-06-09T00:49:45.708237Z"
    },
    "papermill": {
     "duration": 0.311032,
     "end_time": "2025-06-09T00:49:45.710296",
     "exception": false,
     "start_time": "2025-06-09T00:49:45.399264",
     "status": "completed"
    },
    "tags": []
   },
   "outputs": [],
   "source": [
    "import matplotlib.pyplot as plt\n",
    "import matplotlib.animation as animation\n",
    "\n",
    "# make gif out of a scene.\n",
    "def make_gif(data_matrix, data_matrix_2, name, isTest):\n",
    "   cmap = plt.cm.get_cmap('viridis', 50)\n",
    "   fig, ax = plt.subplots(figsize=(10, 10))\n",
    "   # Function to update plot for each frame\n",
    "   def update(frame):\n",
    "       ax.clear()\n",
    "       if frame<50 or isTest==False:\n",
    "           ax.plot(data_matrix[:frame, 0], data_matrix[:frame, 1], color='tab:orange', label='Ego Vehicle')\n",
    "           ax.scatter(data_matrix[frame, 0], data_matrix[frame, 1], s=80, color='tab:orange')\n",
    "       if frame>=50:\n",
    "           frame_2 = frame-50\n",
    "           ax.plot(data_matrix_2[:frame_2, 0], data_matrix_2[:frame_2, 1], color='tab:blue', label='Predicted Ego Vehicle')\n",
    "           ax.scatter(data_matrix_2[frame_2, 0], data_matrix_2[frame_2, 1], s=80, color='tab:blue')\n",
    "       # Set title with timestep\n",
    "       ax.set_title(f\"{'Test data,' if isTest else 'Train data,'}, Scene {name} Timestep {frame}\")\n",
    "       # Set consistent axis limits\n",
    "       ax.set_xlim(min(data_matrix[:,0].min(),data_matrix_2[:,0].min()) - 10, max(data_matrix[:,0].max(), data_matrix_2[:,0].max()) + 10)\n",
    "       ax.set_ylim(min(data_matrix[:,1].min(),data_matrix_2[:,1].min()) - 10, max(data_matrix[:,1].max(), data_matrix_2[:,1].max()) + 10)\n",
    "       ax.legend()\n",
    "\n",
    "       return ax.collections + ax.lines\n",
    "\n",
    "   # Create animation\n",
    "   anim = animation.FuncAnimation(fig, update, frames=list(range(0, 109, 3)),\n",
    "                               interval=100, blit=True)\n",
    "   # Save as GIF\n",
    "   anim.save(f\"trajectory_visualization_{'Test data,' if isTest else 'Train data,'}_{scene_idx}.gif\", writer='pillow')\n",
    "   plt.close()"
   ]
  },
  {
   "cell_type": "code",
   "execution_count": 11,
   "id": "26d90cf8",
   "metadata": {
    "execution": {
     "iopub.execute_input": "2025-06-09T00:49:46.159285Z",
     "iopub.status.busy": "2025-06-09T00:49:46.159007Z",
     "iopub.status.idle": "2025-06-09T00:49:46.165932Z",
     "shell.execute_reply": "2025-06-09T00:49:46.165399Z"
    },
    "papermill": {
     "duration": 0.233951,
     "end_time": "2025-06-09T00:49:46.167135",
     "exception": false,
     "start_time": "2025-06-09T00:49:45.933184",
     "status": "completed"
    },
    "tags": []
   },
   "outputs": [],
   "source": [
    "import os \n",
    "if os.environ.get(\"KAGGLE_KERNEL_RUN_TYPE\") != \"Batch\":\n",
    "    dataset = TrajectoryDatasetTrain(train_data)\n",
    "    for scene_idx in range(20):\n",
    "        roted_ego_poses_diff_window, recovery_pose_roted, recovery_angle_mat, label_poses, _ = dataset[scene_idx] # (1,98), (2,), (2,2)\n",
    "        full_traj = train_data[scene_idx,0,:,:2]\n",
    "        \n",
    "        roted_ego_poses_diff_window = roted_ego_poses_diff_window.to(device).unsqueeze(0) # add batch dimension since batch_first=True\n",
    "        recovery_pose_roted, recovery_angle_mat = recovery_pose_roted.to(device), recovery_angle_mat.to(device) # (batch_size, 2), # (batch_size, 60, 2)\n",
    "\n",
    "        last_movements_sum = torch.sum(torch.abs(roted_ego_poses_diff_window[0,0,-2*5:]))\n",
    "        last_avg_acceleration = (roted_ego_poses_diff_window[0,0,-1] - roted_ego_poses_diff_window[0,0,-2*5]) / 9\n",
    "        print(f'last_movements_sum for scene {scene_idx}: {last_movements_sum} ')\n",
    "        print(f'last_avg_acceleration for scene {scene_idx}: {last_avg_acceleration} ')\n",
    "        \n",
    "        if last_movements_sum < 1.2:\n",
    "            roted_pos_diff_pred = torch.zeros((roted_ego_poses_diff_window.shape[0], 60, 2), device=device)\n",
    "        else:\n",
    "            roted_pos_diff_pred = []    \n",
    "            h = c = None\n",
    "            for t in range(60):\n",
    "                output, h, c = model(roted_ego_poses_diff_window, h, c)\n",
    "                roted_pos_diff_pred.append(output) # (batch_size, 1, 2)\n",
    "                roted_ego_poses_diff_window = torch.cat([roted_ego_poses_diff_window[:,:,2:], output], dim=-1)  # 滚动窗口\n",
    "            roted_pos_diff_pred = torch.cat(roted_pos_diff_pred, dim=1) # (batch_size, 60, 2)\n",
    "        \n",
    "        roted_pos_diff_pred[:,0,:] += recovery_pose_roted # (batch_size, 2)\n",
    "        roted_pos_pred = roted_pos_diff_pred.cumsum(dim=1) \n",
    "        traj_pred = roted_pos_pred.squeeze(0) @ recovery_angle_mat\n",
    "        # print(traj_pred)\n",
    "        # print(full_traj)\n",
    "        make_gif(full_traj, traj_pred.cpu().detach().numpy(), name=f'index {scene_idx}', isTest=False)    "
   ]
  },
  {
   "cell_type": "markdown",
   "id": "1a9bc223",
   "metadata": {
    "papermill": {
     "duration": 0.22076,
     "end_time": "2025-06-09T00:49:46.610747",
     "exception": false,
     "start_time": "2025-06-09T00:49:46.389987",
     "status": "completed"
    },
    "tags": []
   },
   "source": [
    "# Test and write to submission.csv"
   ]
  },
  {
   "cell_type": "code",
   "execution_count": 12,
   "id": "16265e1e",
   "metadata": {
    "execution": {
     "iopub.execute_input": "2025-06-09T00:49:47.112249Z",
     "iopub.status.busy": "2025-06-09T00:49:47.111989Z",
     "iopub.status.idle": "2025-06-09T00:49:47.118955Z",
     "shell.execute_reply": "2025-06-09T00:49:47.118400Z"
    },
    "papermill": {
     "duration": 0.231312,
     "end_time": "2025-06-09T00:49:47.120090",
     "exception": false,
     "start_time": "2025-06-09T00:49:46.888778",
     "status": "completed"
    },
    "tags": []
   },
   "outputs": [],
   "source": [
    "if os.environ.get(\"KAGGLE_KERNEL_RUN_TYPE\") != \"Batch\":\n",
    "    dataset = TrajectoryDatasetTest(test_data)\n",
    "    for scene_idx in range(20):\n",
    "        roted_ego_poses_diff_window, recovery_pose_roted, recovery_angle_mat = dataset[scene_idx] # (1,98), (2,), (2,2)\n",
    "        full_traj = test_data[scene_idx,0,:,:2]\n",
    "        \n",
    "        roted_ego_poses_diff_window = roted_ego_poses_diff_window.to(device).unsqueeze(0) # add batch dimension since batch_first=True\n",
    "        recovery_pose_roted, recovery_angle_mat = recovery_pose_roted.to(device), recovery_angle_mat.to(device) # (batch_size, 2), # (batch_size, 60, 2)\n",
    "\n",
    "        last_movements_sum = torch.sum(torch.abs(roted_ego_poses_diff_window[0,0,-2*5:]))\n",
    "        last_avg_acceleration = (roted_ego_poses_diff_window[0,0,-1] - roted_ego_poses_diff_window[0,0,-2*5]) / 9\n",
    "        print(f'last_movements_sum for scene {scene_idx}: {last_movements_sum} ')\n",
    "        print(f'last_avg_acceleration for scene {scene_idx}: {last_avg_acceleration} ')\n",
    "        \n",
    "        if last_movements_sum < 1.2:\n",
    "            roted_pos_diff_pred = torch.zeros((roted_ego_poses_diff_window.shape[0], 60, 2), device=device)\n",
    "        else:\n",
    "            roted_pos_diff_pred = []    \n",
    "            h = c = None\n",
    "            for t in range(60):\n",
    "                output, h, c = model(roted_ego_poses_diff_window, h, c)\n",
    "                roted_pos_diff_pred.append(output) # (batch_size, 1, 2)\n",
    "                roted_ego_poses_diff_window = torch.cat([roted_ego_poses_diff_window[:,:,2:], output], dim=-1)  # 滚动窗口\n",
    "            roted_pos_diff_pred = torch.cat(roted_pos_diff_pred, dim=1) # (batch_size, 60, 2)\n",
    "            \n",
    "        roted_pos_diff_pred[:,0,:] += recovery_pose_roted # (batch_size, 2)\n",
    "        roted_pos_pred = roted_pos_diff_pred.cumsum(dim=1) \n",
    "        traj_pred = roted_pos_pred.squeeze(0) @ recovery_angle_mat\n",
    "        # print(traj_pred)\n",
    "        # print(full_traj)\n",
    "        make_gif(full_traj, traj_pred.cpu().detach().numpy(), name=f'test scene {scene_idx}', isTest=True)    "
   ]
  },
  {
   "cell_type": "code",
   "execution_count": 13,
   "id": "ce4c3590",
   "metadata": {
    "execution": {
     "iopub.execute_input": "2025-06-09T00:49:47.562812Z",
     "iopub.status.busy": "2025-06-09T00:49:47.562212Z",
     "iopub.status.idle": "2025-06-09T00:49:49.860531Z",
     "shell.execute_reply": "2025-06-09T00:49:49.859849Z"
    },
    "papermill": {
     "duration": 2.52106,
     "end_time": "2025-06-09T00:49:49.862029",
     "exception": false,
     "start_time": "2025-06-09T00:49:47.340969",
     "status": "completed"
    },
    "tags": []
   },
   "outputs": [
    {
     "name": "stdout",
     "output_type": "stream",
     "text": [
      "torch.Size([1, 245])\n",
      "torch.Size([2])\n",
      "torch.Size([2, 2])\n"
     ]
    },
    {
     "name": "stderr",
     "output_type": "stream",
     "text": [
      "/usr/local/lib/python3.11/dist-packages/torch/nn/modules/rnn.py:1124: UserWarning: RNN module weights are not part of single contiguous chunk of memory. This means they need to be compacted at every call, possibly greatly increasing memory usage. To compact weights again call flatten_parameters(). (Triggered internally at /pytorch/aten/src/ATen/native/cudnn/RNN.cpp:1412.)\n",
      "  result = _VF.lstm(\n"
     ]
    }
   ],
   "source": [
    "isTest = True\n",
    "dataset = TrajectoryDataset(test_data, isTest=isTest)\n",
    "for tensor in dataset[1]: print(tensor.shape)\n",
    "test_loader = DataLoader(dataset, batch_size=128, shuffle=False)\n",
    "\n",
    "model.eval()\n",
    "with torch.no_grad():\n",
    "    all_scene_preds = []\n",
    "    for inputs in test_loader:\n",
    "        pos_pred = predict(model, inputs, criterion, isTest)\n",
    "        all_scene_preds.append(pos_pred)\n",
    "        \n",
    "all_scene_preds = torch.cat(all_scene_preds,dim=0).reshape(-1,2)\n",
    "import pandas as pd\n",
    "output_df = pd.DataFrame(all_scene_preds.cpu().numpy(), columns=['x', 'y'])\n",
    "output_df.index.name = 'index'\n",
    "output_df.to_csv('submission.csv')"
   ]
  }
 ],
 "metadata": {
  "kaggle": {
   "accelerator": "gpu",
   "dataSources": [
    {
     "databundleVersionId": 11656558,
     "sourceId": 97693,
     "sourceType": "competition"
    }
   ],
   "dockerImageVersionId": 31041,
   "isGpuEnabled": true,
   "isInternetEnabled": true,
   "language": "python",
   "sourceType": "notebook"
  },
  "kernelspec": {
   "display_name": "Python 3",
   "language": "python",
   "name": "python3"
  },
  "language_info": {
   "codemirror_mode": {
    "name": "ipython",
    "version": 3
   },
   "file_extension": ".py",
   "mimetype": "text/x-python",
   "name": "python",
   "nbconvert_exporter": "python",
   "pygments_lexer": "ipython3",
   "version": "3.11.11"
  },
  "papermill": {
   "default_parameters": {},
   "duration": 1655.269591,
   "end_time": "2025-06-09T00:49:53.581960",
   "environment_variables": {},
   "exception": null,
   "input_path": "__notebook__.ipynb",
   "output_path": "__notebook__.ipynb",
   "parameters": {},
   "start_time": "2025-06-09T00:22:18.312369",
   "version": "2.6.0"
  }
 },
 "nbformat": 4,
 "nbformat_minor": 5
}
